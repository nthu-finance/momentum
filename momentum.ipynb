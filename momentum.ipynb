{
  "cells": [
    {
      "cell_type": "markdown",
      "metadata": {
        "id": "view-in-github",
        "colab_type": "text"
      },
      "source": [
        "<a href=\"https://colab.research.google.com/github/nthu-finance/momentum/blob/main/momentum.ipynb\" target=\"_parent\"><img src=\"https://colab.research.google.com/assets/colab-badge.svg\" alt=\"Open In Colab\"/></a>"
      ]
    },
    {
      "cell_type": "markdown",
      "source": [
        "#Setting"
      ],
      "metadata": {
        "id": "E9jLqdLY5pcg"
      }
    },
    {
      "cell_type": "code",
      "source": [
        "import numpy as np\n",
        "import matplotlib.pyplot as plt\n",
        "from ipywidgets import interact\n",
        "\n",
        "class graph_maker:\n",
        "  def __init__(self, name):\n",
        "    self.name = name\n",
        "  def load_function(self, func):\n",
        "    self.func = func\n",
        "  def exe(self):\n",
        "    def plot_dynamic_graph(c=1.0):\n",
        "      x = np.linspace(-10, 10, 400)\n",
        "      y = eval(self.func)\n",
        "\n",
        "      plt.figure(figsize=(10, 5))\n",
        "      plt.plot(x, y)\n",
        "      plt.title(self.name)\n",
        "      plt.xlabel('x')\n",
        "      plt.ylabel('y')\n",
        "      plt.grid(True)\n",
        "      plt.show()\n",
        "\n",
        "    interact(plot_dynamic_graph, c=(0, 1.5, 0.05))\n",
        "\n"
      ],
      "metadata": {
        "id": "zfOAhq-55NmO"
      },
      "execution_count": null,
      "outputs": []
    },
    {
      "cell_type": "markdown",
      "source": [
        "#activation function\n"
      ],
      "metadata": {
        "id": "Up8vtqRg5Mha"
      }
    },
    {
      "cell_type": "code",
      "source": [
        "graph = graph_maker(\"reverting function\")\n",
        "graph.load_function(\"(1+2*c**2)**(3/4)*x*np.exp(-(c*x)**2/2)\")\n",
        "graph.exe()"
      ],
      "metadata": {
        "id": "EuFPX-9-6Y-w",
        "outputId": "6eebacc9-c7ad-44a3-9aa1-5bb6c1b43302",
        "colab": {
          "base_uri": "https://localhost:8080/",
          "height": 519,
          "referenced_widgets": [
            "6959417aaf944da5b50f2aa6a63c9e28",
            "0e946830222444be8d4ff02f4a3604ee",
            "233bdac8c1684e1bb4f6eed429466796",
            "39d0d9204b354d2993efae1fe22e0b2b",
            "ac9fbe99fbb349dd9bbb0c8f84cc758d",
            "cf10c821585c4b8bbc7d7cd04d91cb06",
            "1d317b259f024c3f9c122b175d6cbd42"
          ]
        }
      },
      "execution_count": null,
      "outputs": [
        {
          "output_type": "display_data",
          "data": {
            "text/plain": [
              "interactive(children=(FloatSlider(value=1.0, description='c', max=1.5, step=0.05), Output()), _dom_classes=('w…"
            ],
            "application/vnd.jupyter.widget-view+json": {
              "version_major": 2,
              "version_minor": 0,
              "model_id": "6959417aaf944da5b50f2aa6a63c9e28"
            }
          },
          "metadata": {}
        }
      ]
    },
    {
      "cell_type": "markdown",
      "source": [
        "# New Section"
      ],
      "metadata": {
        "id": "WtOLVkTn6VIq"
      }
    }
  ],
  "metadata": {
    "colab": {
      "toc_visible": true,
      "provenance": [],
      "include_colab_link": true
    },
    "kernelspec": {
      "display_name": "Python 3",
      "name": "python3"
    },
    "widgets": {
      "application/vnd.jupyter.widget-state+json": {
        "6959417aaf944da5b50f2aa6a63c9e28": {
          "model_module": "@jupyter-widgets/controls",
          "model_name": "VBoxModel",
          "model_module_version": "1.5.0",
          "state": {
            "_dom_classes": [
              "widget-interact"
            ],
            "_model_module": "@jupyter-widgets/controls",
            "_model_module_version": "1.5.0",
            "_model_name": "VBoxModel",
            "_view_count": null,
            "_view_module": "@jupyter-widgets/controls",
            "_view_module_version": "1.5.0",
            "_view_name": "VBoxView",
            "box_style": "",
            "children": [
              "IPY_MODEL_0e946830222444be8d4ff02f4a3604ee",
              "IPY_MODEL_233bdac8c1684e1bb4f6eed429466796"
            ],
            "layout": "IPY_MODEL_39d0d9204b354d2993efae1fe22e0b2b"
          }
        },
        "0e946830222444be8d4ff02f4a3604ee": {
          "model_module": "@jupyter-widgets/controls",
          "model_name": "FloatSliderModel",
          "model_module_version": "1.5.0",
          "state": {
            "_dom_classes": [],
            "_model_module": "@jupyter-widgets/controls",
            "_model_module_version": "1.5.0",
            "_model_name": "FloatSliderModel",
            "_view_count": null,
            "_view_module": "@jupyter-widgets/controls",
            "_view_module_version": "1.5.0",
            "_view_name": "FloatSliderView",
            "continuous_update": true,
            "description": "c",
            "description_tooltip": null,
            "disabled": false,
            "layout": "IPY_MODEL_ac9fbe99fbb349dd9bbb0c8f84cc758d",
            "max": 1.5,
            "min": 0,
            "orientation": "horizontal",
            "readout": true,
            "readout_format": ".2f",
            "step": 0.05,
            "style": "IPY_MODEL_cf10c821585c4b8bbc7d7cd04d91cb06",
            "value": 1
          }
        },
        "233bdac8c1684e1bb4f6eed429466796": {
          "model_module": "@jupyter-widgets/output",
          "model_name": "OutputModel",
          "model_module_version": "1.0.0",
          "state": {
            "_dom_classes": [],
            "_model_module": "@jupyter-widgets/output",
            "_model_module_version": "1.0.0",
            "_model_name": "OutputModel",
            "_view_count": null,
            "_view_module": "@jupyter-widgets/output",
            "_view_module_version": "1.0.0",
            "_view_name": "OutputView",
            "layout": "IPY_MODEL_1d317b259f024c3f9c122b175d6cbd42",
            "msg_id": "",
            "outputs": [
              {
                "output_type": "display_data",
                "data": {
                  "text/plain": "<Figure size 1000x500 with 1 Axes>",
                  "image/png": "iVBORw0KGgoAAAANSUhEUgAAA1kAAAHWCAYAAACFeEMXAAAAOXRFWHRTb2Z0d2FyZQBNYXRwbG90bGliIHZlcnNpb24zLjcuMSwgaHR0cHM6Ly9tYXRwbG90bGliLm9yZy/bCgiHAAAACXBIWXMAAA9hAAAPYQGoP6dpAABhjElEQVR4nO3dd3iV9f3/8dc5GSc7ITussPcUBUEFlOWoSrUUtW6Ko9qK+K2V/loVtUWtq8NWrQrWUUdVap0EZKggyFJkj0AgkIQQsklyknP//kjO0Ug25z73OcnzcV257LnPPd75cPckr3zGbTMMwxAAAAAAwCvsVhcAAAAAAO0JIQsAAAAAvIiQBQAAAABeRMgCAAAAAC8iZAEAAACAFxGyAAAAAMCLCFkAAAAA4EWELAAAAADwIkIWAAAAAHgRIQsAcEoWLVokm82m/fv3W12Kz02cOFETJ060uowmrVixQjabTStWrGh230D4fgAgEBCyAAAdwrZt23T//fd3yDAIAPAtm2EYhtVFAAACV01NjZxOpxwOh2w2m9XlNOo///mPZsyYoeXLl3utt6aqqkqSFBoa6pXzmcHlcqmqqkqhoaGy25v+26q7XVrS6wUAaFyw1QUAAAJbUFCQgoKCrC6jURUVFaaFIH8OV252u11hYWFWlwEAHQrDBQEAp6ShOVk9evTQj370I33++ecaPXq0wsLC1KtXL/3rX//y7LN+/XrZbDa99NJLJ53zk08+kc1m0/vvv+/Zlp2drRtvvFEpKSlyOBwaPHiwXnzxxXrHuecfvf766/rd736nLl26KCIiQn/5y180Y8YMSdK5554rm83W7DylnJwc3XDDDeratascDofS0tJ06aWX1vs+G5rDdODAAV1yySWKjIxUcnKy7rzzTs/38/3rTZw4UUOGDNE333yjCRMmKCIiQn369NF//vMfSdLKlSs1ZswYhYeHq3///lq6dOlJNW7atEkXXHCBYmJiFBUVpUmTJunLL79ssE1++L0+99xz6t27t8LDwzV69Gh99tlnjbYFAKB16MkCAJhiz549+slPfqJZs2bpuuuu04svvqjrr79eo0aN0uDBg3X66aerV69eevPNN3XdddfVO/aNN95Qp06dNG3aNElSbm6uzjzzTNlsNt1+++1KSkrSRx99pFmzZqm4uFhz5sypd/yDDz6o0NBQ/d///Z8qKys1depU/epXv9Jf/vIX/fa3v9XAgQMlyfPfhlx++eXaunWrfvnLX6pHjx7Ky8tTRkaGsrKy1KNHjwaPKSsr03nnnacjR47ojjvuUGpqql577TUtX768wf2PHz+uH/3oR7riiis0Y8YM/eMf/9AVV1yhV199VXPmzNEtt9yiq666Sn/605/0k5/8RAcPHlR0dLQkaevWrTrnnHMUExOju+++WyEhIXr22Wc1ceJET0BrzAsvvKCbb75Z48aN05w5c7Rv3z5dcsklio+PV7du3Ro9DgDQQgYAAKdg4cKFhiQjMzPTsy09Pd2QZKxatcqzLS8vz3A4HMZdd93l2TZv3jwjJCTEKCgo8GyrrKw04uLijBtvvNGzbdasWUZaWpqRn59f79pXXHGFERsba5SXlxuGYRjLly83JBm9evXybHN76623DEnG8uXLm/2ejh8/bkgy/vSnPzW534QJE4wJEyZ4Xj/++OOGJGPx4sWebSdOnDAGDBhw0rUnTJhgSDJee+01z7YdO3YYkgy73W58+eWXnu2ffPKJIclYuHChZ9v06dON0NBQY+/evZ5thw8fNqKjo43x48d7trnbxH3tqqoqIzk52RgxYoRRWVnp2e+5554zJNX7fgAAbcNwQQCAKQYNGqRzzjnH8zopKUn9+/fXvn37PNtmzpwpp9Opd955x7NtyZIlKiws1MyZMyVJhmHo7bff1sUXXyzDMJSfn+/5mjZtmoqKirRx48Z6177uuusUHh7e5trDw8MVGhqqFStW6Pjx4y0+7uOPP1aXLl10ySWXeLaFhYVp9uzZDe4fFRWlK664wvO6f//+iouL08CBA+v1RLn/t7vtampqtGTJEk2fPl29evXy7JeWlqarrrpKn3/+uYqLixu85vr165WXl6dbbrml3pyy66+/XrGxsS3+XgEAjSNkAQBM0b1795O2derUqV5oGT58uAYMGKA33njDs+2NN95QYmKizjvvPEnS0aNHVVhYqOeee05JSUn1vm644QZJUl5eXr3r9OzZ85RqdzgceuSRR/TRRx8pJSVF48eP16OPPqqcnJwmjztw4IB69+590iqLffr0aXD/rl27nrRvbGzsSUP23OHH3XZHjx5VeXm5+vfvf9I5Bw4cKJfLpYMHDzZaoyT17du33vaQkJB6gQ0A0HbMyQIAmKKxFQeNHzw5ZObMmfrDH/6g/Px8RUdH67333tOVV16p4ODaH1Eul0uSdPXVV580d8tt2LBh9V6fSi+W25w5c3TxxRdr8eLF+uSTT/T73/9eCxYs0KeffqqRI0ee8vmlxtuopW0HAPBP9GQBACw1c+ZMVVdX6+2339ZHH32k4uLiekPokpKSFB0drZqaGk2ePLnBr+Tk5Gav05ZnePXu3Vt33XWXlixZom+//VZVVVV6/PHHG90/PT1de/fuPSkM7dmzp9XXbkpSUpIiIiK0c+fOk97bsWOH7HZ7owtYpKenS5J2795db7vT6VRmZqZX6wSAjoqQBQCw1MCBAzV06FC98cYbeuONN5SWlqbx48d73g8KCtLll1+ut99+W99+++1Jxx89erRF14mMjJQkFRYWNrtveXm5Kioq6m3r3bu3oqOjVVlZ2ehx06ZNU3Z2tt577z3PtoqKCv3zn/9sUY0tFRQUpKlTp+q///1vvSXlc3Nz9dprr+nss89WTExMg8eefvrpSkpK0jPPPON5mLJUuxR/S9oGANA8hgsCACw3c+ZM3XvvvQoLC9OsWbNkt9f/G+DDDz+s5cuXa8yYMZo9e7YGDRqkgoICbdy4UUuXLlVBQUGz1xgxYoSCgoL0yCOPqKioSA6HQ+edd16DvWC7du3SpEmT9NOf/lSDBg1ScHCw3n33XeXm5tbrZfuhm2++WX/729905ZVX6o477lBaWppeffVVz8OA29Kb1piHHnpIGRkZOvvss/WLX/xCwcHBevbZZ1VZWalHH3200eNCQkL00EMP6eabb9Z5552nmTNnKjMzUwsXLmROFgB4CT1ZAADLzZw5Uy6XS+Xl5Z5VBb8vJSVF69at0w033KB33nlHt99+u/785z+roKBAjzzySIuukZqaqmeeeUZ5eXmaNWuWrrzySm3btq3Bfbt166Yrr7xSK1as0Lx58zRv3jwVFxfrzTff1OWXX97oNaKiovTpp5/qvPPO05///Gc99NBDOuecc/T73/9ekjxhyxsGDx6szz77TEOGDNGCBQs0f/58paene8JoU2666Sb9/e9/1+HDh/XrX/9an332md577z2ekQUAXmIzmEULAICpnnrqKd155506dOiQunTpYnU5AACTEbIAAPCiEydO1FvdsKKiQiNHjlRNTY127dplYWUAAF9hThYAAF502WWXqXv37hoxYoSKior0yiuvaMeOHXr11VetLg0A4COELAAAvGjatGl6/vnn9eqrr6qmpkaDBg3S66+/3uBcMwBA+8RwQQAAAADwIlYXBAAAAAAvCqiQtWrVKl188cXq3LmzbDabFi9e3OT+K1askM1mO+krJyfHNwUDAAAA6HACak5WWVmZhg8frhtvvFGXXXZZi4/buXNnvSffN/Tgyca4XC4dPnxY0dHRXn2IJAAAAIDAYhiGSkpK1LlzZ9ntjfdXBVTIuuCCC3TBBRe0+rjk5GTFxcW16ZqHDx/m4YwAAAAAPA4ePKiuXbs2+n5Ahay2GjFihCorKzVkyBDdf//9Ouussxrdt7KyUpWVlZ7X7nVBMjMzFR0dbXqtTXE6nVq+fLnOPfdchYSEWFpLe0T7mov2NRftay7a11y0r/loY3PRvubyp/YtKSlRz549m80FAbu6oM1m07vvvqvp06c3us/OnTu1YsUKnX766aqsrNTzzz+vl19+WWvXrtVpp53W4DH333+/5s+ff9L21157TREREd4qHwAAAECAKS8v11VXXaWioqJ605F+qF2HrIZMmDBB3bt318svv9zg+z/sySouLla3bt2Un5/fZEP6gtPpVEZGhqZMmWJ5im+PaF9z0b7mon3NRfuai/Y1H21sLtrXXP7UvsXFxUpMTGw2ZHWI4YLfN3r0aH3++eeNvu9wOORwOE7aHhISYvk/qps/1dIe0b7mon3NRfuai/Y1F+1rPtrYXLSvufyhfVt6/YBawt0bNm/erLS0NKvLAAAAANBOBVRPVmlpqfbs2eN5nZmZqc2bNys+Pl7du3fXvHnzlJ2drX/961+SpKeeeko9e/bU4MGDVVFRoeeff16ffvqplixZYtW3AAAAAKCdC6iQtX79ep177rme13PnzpUkXXfddVq0aJGOHDmirKwsz/tVVVW66667lJ2drYiICA0bNkxLly6tdw4AAAAA8KaAClkTJ05UU+t0LFq0qN7ru+++W3fffbfJVQEAAADAdzrcnCwAAAAAMBMhCwAAAAC8iJAFAAAAAF5EyAIAAAAALyJkAQAAAIAXEbIAAAAAwIsIWQAAAADgRQH1nCwAADoqwzC0fGeeFn6xX8dKqxQRGqRpg1N19ZnpCg8Nsro8AMD3ELIAAPBzpZXVmv3Seq3Zd6ze9vUHjuu5z/bp6atO0+ie8RZVBwD4IYYLAgDgx8oqq3X9i+u0Zt8xhYcE6abxvbTohjP04PQh6topXEdLKnXdi+v0+e58q0sFANShJwsAAD9lGIbueH2z1h84rpiwYL368zM1tGus5/0Zo7rqllc2aMXOo7rxpa/07i/GaXDn2CbOCADwBXqyAADwU+9/c0RLt+cqJMimf80aUy9gSVJYSJCevWaUJvRLUlW1S7/69yadqKqxqFoAgBshCwAAP3S8rEr3v7dVknTbuX00oltcg/s5goP05MwRSolxaO/RMj34wTYfVgkAaAghCwAAP/S35Xt0rKxKfZOjdOvE3k3uGx8Zqid/OkKS9NraLH19sND8AgEAjSJkAQDgZ46XVenf67IkSf/vooFyBDe/RPu4Pom67LQukqSHPtgmwzBMrREA0DhCFgAAfmbR6v0qr6rR4M4xmtAvqcXH/Xpaf4WF2PXV/uP66NscEysEADSFkAUAgB8pq6zWS2v2S5JundhbNputxcemxYbr5vG1QwufyNgll4veLACwAiELAAA/8r+vD6uw3Kn0hAhdMCSt1cf//Jyeig4L1p68Ui3dnmtChQCA5hCyAADwI29vPCRJuuKM7gqyt7wXyy06LETXnJkuSfr7ir3MzQIACxCyAADwE/vzy/TV/uOy26Qfj+zS5vPccFZPhQbbtflgob7cV+DFCgEALUHIAgDAT7xT14t1dt8kpcaGtfk8SdEOzRjVVZL00ur93igNANAKhCwAAPyAy2Xo7Y3ZkqSf1AWkU3Ht2B6SpIztucotrjjl8wEAWo6QBQCAH9iSXaTswhOKDA3S1EEpp3y+/qnROqNHJ9W4DL2+7qAXKgQAtBQhCwAAP5CxrXYlwAn9kxQW0vzDh1vi6roFMP69LkvVNS6vnBMA0DxCFgAAfsC93PoUL/RiuZ0/JFXxkaHKKa7Qyl1HvXZeAEDTCFkAAFjsYEG5duSUKMhu07n9k712XkdwkKaPqF2l8J1N2V47LwCgaYQsAAAstqRuqOAZPTopLiLUq+e+7LTakJWxLVdFJ5xePTcAoGGELAAALLZ0m3uoYKrXzz24c4z6p0SrqtqlD7cc8fr5AQAnI2QBAGChE1U12nDguCTp3P5JXj+/zWbz9Ga9veGQ188PADgZIQsAAAt9tb9AVTUupcWGqWdipCnXmD6yi2w2af2B4zp0vNyUawAAvkPIAgDAQl/szZckjeudKJvNZso1UmLCNKZnvCQxZBAAfICQBQCAhVbvOSZJOqtPgqnXuWhYZ0nSB98QsgDAbIQsAAAsUlhepW8PF0mSzuqTaOq1zh+cKrtN+vpQkQ4WMGQQAMxEyAIAwCJf7jsmw5B6J0UqJSbM1GslRTt0Zq/a3rIPGDIIAKYiZAEAYJE1e91DBc3txXK7aFiaJOZlAYDZCFkAAFhkfd3S7aPrFqUw29RBqbLZpG8OFSmnqMIn1wSAjoiQBQCABUorq7X9SLEk6fR034SspGiHRnaLkyQt3Z7rk2sCQEdEyAIAwAKbswrlMqQuceFKjTV3Ptb3TR6UIknK2EbIAgCzELIAALDAhrqhgqPSO/n0ulPrQtaavcdUWlnt02sDQEdByAIAwALrDxRIkk7v4duQ1TspSj0TI1VV49LKnUd9em0A6CgIWQAA+FiNy9CmrEJJvu/JstlsmlLXm8W8LAAwByELAAAf25VbotLKakWGBmlAaozPrz95YG3I+nRHnpw1Lp9fHwDaO0IWAAA+5u7FGtE9TkF2m8+vPyq9k+IjQ1V0wqmv9hf4/PoA0N4RsgAA8LEt2YWSpOFd4yy5fpDdpvMGJEuSlm7Ls6QGAGjPCFkAAPjY1weLJEnDusZaVoN7XlbG9hwZhmFZHQDQHhGyAADwoQpnjXbllkiShlnUkyVJ5/RNlCPYroMFJ7Szrh4AgHcQsgAA8KHtR4pV7TKUGBWqNB8+hPiHIkKDdVafREnS8h0s5Q4A3kTIAgDAh7Zk1w4VHNolVjab7xe9+L6J/ZMkSSt2Mi8LALyJkAUAgA99c6guZFk4VNBtYr/axS82HDiukgqnxdUAQPtByAIAwIe+OVQoSRpu4aIXbt0TItQrMVLVLkNf7Mm3uhwAaDcIWQAA+Eh5VbX25JVKqh0u6A8meIYMMi8LALyFkAUAgI9sP1IilyElRzuUHGPdohffN7F/7ZDBFTuPspQ7AHgJIQsAAB/ZfqRYkjSoc4zFlXxnTM94hYXYlVNcwVLuAOAlARWyVq1apYsvvlidO3eWzWbT4sWLmz1mxYoVOu200+RwONSnTx8tWrTI9DoBAGiIO2QNTPOfkBUWEqSxvRIkMWQQALwloEJWWVmZhg8frqeffrpF+2dmZuqiiy7Sueeeq82bN2vOnDn6+c9/rk8++cTkSgEAONk2PwxZ0ndDBlcSsgDAK4KtLqA1LrjgAl1wwQUt3v+ZZ55Rz5499fjjj0uSBg4cqM8//1xPPvmkpk2bZlaZAACcxOUytDOndjjeoLRoi6upb0K/2sUv1h8oUGlltaIcAfXrAQD4nXb9KbpmzRpNnjy53rZp06Zpzpw5jR5TWVmpyspKz+vi4tq/OjqdTjmd1j5DxH19q+tor2hfc9G+5qJ9zeWN9t1/rEzlVTUKC7Gra6zDr/6tusSGKj0+QgcKyrVqR66mDEr26fW5f81HG5uL9jWXP7VvS2to1yErJydHKSkp9balpKSouLhYJ06cUHh4+EnHLFiwQPPnzz9p+5IlSxQREWFara2RkZFhdQntGu1rLtrXXLSvuU6lfTcds0kKUnJojT75+CPvFeUl6aF2HZBdryzbKOd+lyU1cP+ajzY2F+1rLn9o3/Ly8hbt165DVlvMmzdPc+fO9bwuLi5Wt27dNHXqVMXEWDuG3ul0KiMjQ1OmTFFISIiltbRHtK+5aF9z0b7m8kb77li6W9qVqTMHdNWFFw72coWnLnLXUa16eZP2V0boggvOkc1m89m1uX/NRxubi/Y1lz+1r3uUW3PadchKTU1Vbm5uvW25ubmKiYlpsBdLkhwOhxwOx0nbQ0JCLP9HdfOnWtoj2tdctK+5aF9znUr77sotkyQN6Rrnl/9GZ/VNUWiwXYeLKpRVWKU+yVE+r4H713y0sbloX3P5Q/u29PoBtbpga40dO1bLli2rty0jI0Njx461qCIAQEflXr59QKp/rSzoFh4apNE94iVJq3axyiAAnIqAClmlpaXavHmzNm/eLKl2ifbNmzcrKytLUu1Qv2uvvdaz/y233KJ9+/bp7rvv1o4dO/T3v/9db775pu68804rygcAdFAlFU4dLqqQJPVP9a+VBb9vfL9ESdKq3YQsADgVARWy1q9fr5EjR2rkyJGSpLlz52rkyJG69957JUlHjhzxBC5J6tmzpz744ANlZGRo+PDhevzxx/X888+zfDsAwKd25ZZKklJiHIoN99+hROPrlnL/ct8xVThrLK4GAAJXQM3JmjhxogzDaPT9RYsWNXjMpk2bTKwKAICm7c6tfT5WvxT/7cWSpP4p0UqJcSi3uFLr9x/X2X0TrS4JAAJSQPVkAQAQiHYGSMiy2Ww6p29tbxZDBgGg7QhZAACYbHfdcMH+fh6ypO+GDLL4BQC0HSELAACTuXuy+qb4fln01jqnT6JsNmlHTolyiyusLgcAAhIhCwAAEx0vq9LRkkpJUt8A6MnqFBmqYV1iJdGbBQBtRcgCAMBEu+p6sbrEhSvKERjrTXmGDO7Ot7gSAAhMhCwAAEy0K692Pla/ABgq6OYOWZ/vPqoaV+Or+gIAGkbIAgDARLtyAmNlwe8b0S1O0Y5gHS936tvsIqvLAYCAQ8gCAMBEe+p6svokB05PVkiQXeP6JEhiXhYAtAUhCwAAE+09GnghS/r+vCxCFgC0FiELAACTFFc4lVe3smDvQAtZdQ8l3phVqOIKp8XVAEBgIWQBAGCSvXVDBZOjHYoJC7G4mtbpFh+hXomRqnEZWr3nmNXlAEBAIWQBAGCSvUfLJEm9kwKrF8uNIYMA0DaELAAATBKo87HcxvdLlFS7+IVhsJQ7ALQUIQsAAJO4hwv2Toq0uJK2ObNXgkKD7Dp0/IQy88usLgcAAgYhCwAAk+yp68kKtEUv3CJCg3V6j06SWModAFqDkAUAgAmcNS5lHSuXFLjDBaXvz8vKt7gSAAgchCwAAExw4Fi5ql2GIkODlBoTZnU5beZeyn3N3mOqrK6xuBoACAyELAAATLAn77uhgjabzeJq2m5AarQSoxw64azRhv3HrS4HAAICIQsAABO4F4rolRiYi1642e02je9bu8rgSpZyB4AWIWQBAGCC/XUhq0eAhyzpe/OydjEvCwBagpAFAIAJMo/Vhqye7SBknV3Xk7X9SLHySiosrgYA/B8hCwAAE3h6shICP2QlRjk0pEuMJOkzerMAoFmELAAAvKysslp5JZWS2sdwQem7VQZXMS8LAJpFyAIAwMv21w0VjI8MVWx4iMXVeId7XtZnu/PlchkWVwMA/o2QBQCAl+3Pr30IcXpChMWVeM9p3TspMjRIBWVV2nq42OpyAMCvEbIAAPAyd09Wz3YwH8stNNiusb1rF8BgyCAANI2QBQCAl2W2o+Xbv29Cv7rnZe0iZAFAUwhZAAB4WXt6Rtb3uedlbTxwXCUVTourAQD/RcgCAMDL2uNwQUlKT4hUekKEql2G1uw9ZnU5AOC3CFkAAHhRSYVT+aVVkqQeie1n4Qs3lnIHgOYRsgAA8KIDx2pXFkyMClV0WPtYvv373EMGV/FQYgBoFCELAAAv8ix60c6GCrqN7Z2gYLtNWQXlOlA3LBIAUB8hCwAAL2qvi164RTmCNSq9kyRpxU6GDAJAQwhZAAB4UaZ70Yt2GrIk6dwByZKkT3fkWVwJAPgnQhYAAF60v50PF5SkSXUha83eYyqrrLa4GgDwP4QsAAC8aH/dwhftcWVBtz7JUeoWH66qGpe+2MMCGADwQ4QsAAC8pOiEUwVltcu3p7fjniybzaZJA1IkMWQQABpCyAIAwEvcQwWToh2KcgRbXI25zvvevCyXy7C4GgDwL4QsAAC8ZL970Yt23IvlNqZXvCJCg5RXUqmth4utLgcA/AohCwAAL/E8I6sdz8dycwQH6Zy+iZKkZTtyLa4GAPwLIQsAAC854Fn0ov33ZEliXhYANIKQBQCAl7h7sjrCcEFJmjggSZL0zaEi5RVXWFwNAPgPQhYAAF7inpPVUXqykqPDNLxrrCRp+U56swDAjZAFAIAXFFc4VVjulCR1j2//c7LczqsbMrhsOyELANwIWQAAeMHBgtr5WIlRoYps58u3f9+kgbVLuX+2O18VzhqLqwEA/0DIAgDAC9whq2unjtOLJUmDO8eoc2yYTjhr9NnufKvLAQC/QMgCAMALsupCVkcaKihJNptN04akSpI+/jbH4moAwD8QsgAA8IKOGrIkadrg2pC1dHuunDUui6sBAOsRsgAA8IKsghOSOmbIOqNHvBIiQ1V0wql1mQVWlwMAliNkAQDgBYfcc7Liwy2uxPeC7DZNGVS7yiBDBgGAkAUAwCmrcRk6dLzj9mRJ8szL+mRrjlwuw+JqAMBahCwAAE5RbnGFqmpcCrbblBbb8XqyJGlc7wRFOYKVV1KpTQcLrS4HACwVcCHr6aefVo8ePRQWFqYxY8Zo3bp1je67aNEi2Wy2el9hYWE+rBYA0BFkeZZvD1eQ3WZxNdZwBAfpvAG1z8xaspUhgwA6toAKWW+88Ybmzp2r++67Txs3btTw4cM1bdo05eU1/pT5mJgYHTlyxPN14MABH1YMAOgI3M/I6tZBhwq6ne9eyn1rjgyDIYMAOq6ACllPPPGEZs+erRtuuEGDBg3SM888o4iICL344ouNHmOz2ZSamur5SklJ8WHFAICOgJBVa0K/JDmC7TpwrFw7ckqsLgcALBNsdQEtVVVVpQ0bNmjevHmebXa7XZMnT9aaNWsaPa60tFTp6elyuVw67bTT9Mc//lGDBw9udP/KykpVVlZ6XhcXF0uSnE6nnE6nF76TtnNf3+o62iva11y0r7loX3M1177788skSV1iHR363yDULp3dJ0HLdhzV+19nq09iy+ancf+ajzY2F+1rLn9q35bWYDMCpD//8OHD6tKli1avXq2xY8d6tt99991auXKl1q5de9Ixa9as0e7duzVs2DAVFRXpscce06pVq7R161Z17dq1wevcf//9mj9//knbX3vtNUVEdOy/UAIAGvbkliDtL7Xphn41GpEQED9WTbP+qE0v7wlSYpih342oka1jTlED0E6Vl5frqquuUlFRkWJiYhrdL2B6stpi7Nix9QLZuHHjNHDgQD377LN68MEHGzxm3rx5mjt3rud1cXGxunXrpqlTpzbZkL7gdDqVkZGhKVOmKCQkxNJa2iPa11y0r7loX3M1174PblkhqUqXTjpLgztb+7PCahMqq/XWIyuUX+FSt+FnaVjX2GaP4f41H21sLtrXXP7Uvu5Rbs0JmJCVmJiooKAg5ebm1tuem5ur1NTUFp0jJCREI0eO1J49exrdx+FwyOFwNHis1f+obv5US3tE+5qL9jUX7Wuuhtr3RFWN8kurJEk9k2I6fPvHhYRoyqBU/e/rw/pwa55G9Uxs8bHcv+ajjc1F+5rLH9q3pdcPmIUvQkNDNWrUKC1btsyzzeVyadmyZfV6q5pSU1OjLVu2KC0tzawyAQAdzMHjtYtexIQFKzaCX64k6ZLhnSVJ//v6sGp4MDGADihgQpYkzZ07V//85z/10ksvafv27br11ltVVlamG264QZJ07bXX1lsY44EHHtCSJUu0b98+bdy4UVdffbUOHDign//851Z9CwCAdibrWG3I6p7AvF23Cf2SFBseorySSq3dd8zqcgDA5wJmuKAkzZw5U0ePHtW9996rnJwcjRgxQh9//LFnWfasrCzZ7d/lxuPHj2v27NnKyclRp06dNGrUKK1evVqDBg2y6lsAALQz7gcRd+/gy7d/X2iwXRcOTdW/1x3Ue18f1rg+LR8yCADtQUCFLEm6/fbbdfvttzf43ooVK+q9fvLJJ/Xkk0/6oCoAQEeVxTOyGnTx8M7697qD+nDLEc2/dLAcwUFWlwQAPhNQwwUBAPA3h+rmZHXrRMj6vjE9E5QS41BxRbVW7jxqdTkA4FOELAAATgHDBRsWZLfp4mG1C2C89/Vhi6sBAN8iZAEA0EaGYRCymnDJiNqQtXR7roornBZXAwC+Q8gCAKCNjpZWqsLpkt0mdY4Lt7ocvzO0S6z6JkepwunSe5vpzQLQcRCyAABoo4N1vVhpseEKDeZH6g/ZbDbNPKObJOmNrw5aXA0A+A4/EQAAaKODBSckSd3i6cVqzGWndVVIkE1bsov0bXaR1eUAgE8QsgAAaCN3TxYrCzYuPjJUUwenSpLeXE9vFoCOgZAFAEAbHTpe25PVlZDVpCvqhgy+uylbFc4ai6sBAPMRsgAAaKNDhbU9WV07MVywKWf1TlTXTuEqqajWh1uOWF0OAJiOkAUAQBt915NFyGqK3W7TzNNre7NeZwEMAB0AIQsAgDZwuQwdLqwNWV0IWc36yeldZbdJ6zILtO9oqdXlAICpCFkAALRBXkmlnDWGguw2pcaEWV2O30uLDdfE/smSpNfWZllcDQCYi5AFAEAbHDrufkZWmIKD+HHaElef2V1S7TOzSiurLa4GAMzDTwUAANog2z1UMI6hgi01sV+yeiVFqqSyWm8yNwtAO0bIAgCgDVi+vfXsdptmnd1TkvTiF5mqcRkWVwQA5iBkAQDQBu7hgqws2DqXjeyqThEhOnT8hJZszbG6HAAwBSELAIA2cPdksbJg64SHBunqM9MlSS98nmlxNQBgDkIWAABtkM0zstrsmrHpCg2ya/2B49qUddzqcgDA6whZAAC0kstl6FDdwhfdmJPVasnRYbpkRGdJ9GYBaJ8IWQAAtFJ+WaWqql2y26TUWJ6R1RbuBTA++jZHBwrKLa4GALyLkAUAQCu552OlxoQphGdktcnAtBhN6JekGpehZ1bSmwWgfeEnAwAArcTy7d5xx+S+kqTFmw/rWIXFxQCAFxGyAABopWxWFvSK07p30jl9E1XtMpSRza8kANoPPtEAAGglnpHlPXPqerPW5tm0/1iZxdUAgHcQsgAAaKVDLN/uNaPS4zWxX6JcsunJpXusLgcAvIKQBQBAK2XXLd/eJY45Wd5w15S+ssnQh9/masuhIqvLAYBTRsgCAKAVDMNguKCXDUiN1qhEQ5L00AfbZBiGxRUBwKkhZAEA0ArHyqpU4XTJZpPS4nhGlrdc1N0lR7BdazML9PG3OVaXAwCnhJAFAEAruFcWTI52yBEcZHE17Ue8Q5p9dg9J0h8+3K4KZ421BQHAKSBkAQDQCjwjyzw3ndNTabFhOnT8hP6+nEUwAAQuQhYAAK3AfCzzhIcG6fc/GiRJ+sfKvdqdW2JxRQDQNoQsAABa4buVBQlZZrhgSKomDUiWs8bQb9/dIpeLRTAABB5CFgAArcBwQXPZbDY9MH2IIkKD9NX+43ppzX6rSwKAViNkAQDQCgwXNF+XuHDNu3CgJOnhj3ZoT16pxRUBQOsQsgAAaKHaZ2TVDRckZJnq6jHdNb5fkiqrXbrzjc2qrGa1QQCBg5AFAEALFZ5wqryq9pd95mSZy2az6dHLhykuIkRbsou04MMdVpcEAC1GyAIAoIWyj1dIkpKiHQoL4RlZZkuNDdPjM4ZLkhat3q8PtxyxuCIAaBlCFgAALXSIlQV9btLAFN08vpck6f/e+lrbjxRbXBEANI+QBQBACx0udK8sSMjypV9P66+z+ySqvKpGP39pvY6WVFpdEgA0iZAFAEALHSqsHS7I8u2+FRxk19+uGqkeCRHKLjyhGxd9pdLKaqvLAoBGEbIAAGihbFYWtExcRKhevP4MxUeGakt2kW5+eb0qnKw4CMA/EbIAAGghhgtaq1dSlBZef4YiQoP0xZ5juunlDQQtAH6JkAUAQAsYxnfDBbsRsiwzvFucXrjuDIWHBGnVrqP6+UvrGToIwO8QsgAAaIETNfL8Mt+Z1QUtNbZ3ghbdUNuj9fmefF3x3BrllVRYXRYAeBCyAABogYK6Be0SIkMVERpsbTHQmF4J+vfsM5UQGapvs4s1/W9f6JtDhVaXBQCSCFkAALRIQaVNEvOx/MnwbnF6+9Zx6pUYqcNFFfrJM2v06toDMgzD6tIAdHCELAAAWsDdk8XKgv6lR2KkFt9+liYNSFZVtUv/791vdfPLG5RbzPBBANYhZAEA0ALf9WTxjCx/ExMWon9ee7r+34UDFRJk05JtuTrvsRV6/rN9cta4rC4PQAdEyAIAoAUK6jpGGC7on+x2m2aP76X/3na2RnSLU1lVjR76YLt+9JfPtXLXUYYQAvApQhYAAC3g7snqwsqCfm1Q5xi9c+s4PXL5UHWKCNHO3BJd9+I6XfK3L/TRliNyuQhbAMxHyAIAoAWO183JYrig/7PbbZp5Rnd9etdE3XhWT4WHBGlLdpFufXWjJj+xUs+s3KucIuZsATAPIQsAgGaUVDhVXlPXk8VwwYDRKTJU9148SF/cc55+dV4fxYQFa19+mR7+aIfGPrxM17ywVv9el6XDhSesLhVAOxNwIevpp59Wjx49FBYWpjFjxmjdunVN7v/WW29pwIABCgsL09ChQ/Xhhx/6qFIAQHuRXVjb6xEXHqIoB8/ICjTxkaGaO7W/Vs+bpIcvG6rRPeJlGNJnu/M1750tGvfwp5ryxEo98L9t+uCbIzp0vJw5XABOSUD9pHjjjTc0d+5cPfPMMxozZoyeeuopTZs2TTt37lRycvJJ+69evVpXXnmlFixYoB/96Ed67bXXNH36dG3cuFFDhgyx4DsAAASi7Lqeji6dwiyuBKciyhGsK0Z31xWjuyvrWLn+uzlby3fmafPBQu3OK9XuvFK9+EWmJCkxKlQD02LUJzlKvZNqv7rEhSs5xqGwkCCLvxMA/q7VIeu6667TrFmzNH78eDPqadITTzyh2bNn64YbbpAkPfPMM/rggw/04osv6p577jlp/z//+c86//zz9etf/1qS9OCDDyojI0N/+9vf9Mwzz/i0dgBA4HL3ZLHoRfvRPSFCv5zUV7+c1FdF5U59vidfa/bl6+uDRdp+pFj5pVX6bHe+Ptudf9Kx8ZGhSo0JU2psmOIjQxUbHlLvK8oRrPDQIIWF2BUWEqSwkCCF1/3XEWxXkN2mYLtNQXabbDabBd89ALO1OmQVFRVp8uTJSk9P1w033KDrrrtOXbp0MaO2eqqqqrRhwwbNmzfPs81ut2vy5Mlas2ZNg8esWbNGc+fOrbdt2rRpWrx4caPXqaysVGVlped1cXGxJMnpdMrpdJ7Cd3Dqrnp+nQ4dDdLTe79o8EO5yY/pZj7Em3q3uc//pt63NV1VM8c2dWCTp23yuo1d03AZKioK0sKDXzb6Q6+5H4an0o5NnreJg5s7bZvb+FSu28CbhsvQsQK7Xs/5SnZ74yOVm73fmngvOMimkCC7Qux2hQTZFBJsV7C9blvQd/8NDbIrKixYkaHBinIEK9IRVPffYMWEBatTRIiCgwJrNLX788nqz6n2KutYmSQpLTqUNjaB1fdvRIg0dWCipg5MlCRVOGu0/UiJdueVau/RMu3NL9P+/HLlFFeostqlgrIqFZRVaduR4lO+dlBd2Ar+wX+DbDbP56HNVvtTzfNa372ov91Wb5/a/+3+1DRUXhakv+z5XHabrdmfz2gdQ4ZKS4L0t71f0LYmMGQoyWbXFD/4/G3p51SrQ9bixYt19OhRvfzyy3rppZd03333afLkyZo1a5YuvfRShYSEtLrYlsjPz1dNTY1SUlLqbU9JSdGOHTsaPCYnJ6fB/XNychq9zoIFCzR//vyTti9ZskQREdauKLU9O0il1TYdKS+ztI72zSaVnvoPTTTGLhUdt7qIZtlkKDJYig6VokMMxYRI8Q4pMcxQYpihpDApJtTqKhuWkZFhdQnt0uZddkl2leQe0Icf7re6nHbL3+7fKEnDJQ1PkJQgGYZUXi0VVkmFVTYVVUll1VJ5tU0nqmvfK6+WKmtscrqkKpfkrPuqckk1xsm/fNe4DNW4DFX55DuySSfKfXKljskmneB3NLMExfrHZ0R5ecv+P9SmOVlJSUmaO3eu5s6dq40bN2rhwoW65pprFBUVpauvvlq/+MUv1Ldv37ac2nLz5s2r1/tVXFysbt26aerUqYqJibGwMqlTv6P68qv1GnXaaQoOrv9P19T03Obm7hpNHd3ssU1dt+mD21pzc1ORm7xuE29V19Ro8+bNGj5iuIKDTv6/xqm0o2nfT7PHmnPdtvzb1dTUaMuWLRoydIiCGmjfJg9u4XWrXYacNa66L0PVdf911rjk/N57ldUulVXWqLSyWmWV1XX/rX1dWlktl2FTabVUWi0daeQvkgmRoRqQGq0BqVEa0S1OZ6THKSHK0WT9ZnI6ncrIyNCUKVNM+2NXR/bc/jWSSnTemBGaNiTN6nLanY5y/9a4DFVVu1Rj1Aar6rqAVfu/XbX/rfnuPan2s82Q4fl4NFT7+ez5PDS+2/bd+9/9THIf53RWa8OGDTpt1CgFBTGnzNuqq6u1YePGBn9Hw6mrrq7Wjm82+MVnhHuUW3NO6S44cuSIMjIylJGRoaCgIF144YXasmWLBg0apEcffVR33nnnqZy+nsTERAUFBSk3N7fe9tzcXKWmpjZ4TGpqaqv2lySHwyGH4+RflEJCQiz/Rx3bJ0nHdxka3z/F8lraI6fTqZqsTTp/SGfa1wROp1OOnG904Wnd/Lp9a1yGjpdX6WhJpY6WVCq/tFK5xZU6eLxcWcfKdaCgTIeOn9Cxsip9sfeYvth7TNIBSVKf5CiN7ZWgqYNTdGavBIVYMOTQHz6r2qPDdc9U6p4QRfuaqL3fvyGSwiz6W4zT6VTxHkPn9Etu121sFafTqdK9/I5mltr29Y/PiJZev9Uhy+l06r333tPChQu1ZMkSDRs2THPmzNFVV13l6el59913deONN3o1ZIWGhmrUqFFatmyZpk+fLklyuVxatmyZbr/99gaPGTt2rJYtW6Y5c+Z4tmVkZGjs2LFeqwtA+xJktykxyqHEKIcGNtJhcaKqRjtzS7T9SLG2Hi7SV5nHtTO3RHvySrUnr1Qvf3lAseEhmjwwRT8e2UVn9UlgcnsAK6us1vHy2jH4XeJYXRAA0LxWh6y0tDS5XC5deeWVWrdunUaMGHHSPueee67i4uK8UF59c+fO1XXXXafTTz9do0eP1lNPPaWysjLPaoPXXnutunTpogULFkiS7rjjDk2YMEGPP/64LrroIr3++utav369nnvuOa/XBqDjCA8N0ohucRrRLc6z7XhZldbtL9CKnXlasjVXx8qq9PbGQ3p74yH1SozU1Wem6/JRXRUbzl84A417+fbwIEMx/PsBAFqg1SHrySef1IwZMxQW1vhf8+Li4pSZmXlKhTVk5syZOnr0qO69917l5ORoxIgR+vjjjz2LW2RlZdVbtWzcuHF67bXX9Lvf/U6//e1v1bdvXy1evJhnZAHwuk6RoZo2OFXTBqfqoemG1u8v0PvfHNG7m7K1L79MD7y/TY8t2amfn91Ts8f3UnQYv6wHikPHayc5x1s35Q4AEGBaHbKuueYaM+posdtvv73R4YErVqw4aduMGTM0Y8YMk6sCgO8E2W0a0ytBY3ol6DcXDNDiTdl6ec0B7cwt0V8+3aNX1mbptnP76Oozu8sRzAR0f5d9vLYnK97R9kVoAAAdS2A9CAYAAkyUI1hXn5muj+eco2euPk29kiJVUFalB9/fpmlPrtKavcesLhHNOFQXsjrRkwUAaCFCFgD4gM1m0/lD0rRkzng9fNlQJUc7tP9Yua7855e697/fqsJZY3WJaIQ7ZCWE0ZMFAGgZQhYA+FBwkF1XjO6upXdN0NVndpck/WvNAV3yt8+1J6/E4urQEPecrE5++gBqAID/IWQBgAViwkL00PSh+teNo5UU7dCu3FJNf3q1lmzNsbo0/IB7dUF6sgAALUXIAgALje+XpI/uOEdjesartLJaN7+yQS987v3VWdE2J6pqlF9aJYnVBQEALUfIAgCLJUY59MrPx+iaM9NlGNKD72/Tgg+3yzDoObFadmHtUMEoR7DCWQgSANBChCwA8AMhQXY9cOlg/eb8AZKkZ1ft04PvE7SsdrBu0YuucWGy2SwuBgAQMAhZAOAnbDabbp3YW3/88VBJ0otfZOqP9GhZyr2yYJdO4RZXAgAIJIQsAPAzV43procvqw1a//wsU8+u2mdxRR2Xe2XBznGELABAyxGyAMAPXTG6u3530UBJ0sMf7dDiTdkWV9QxZX9vuCAAAC1FyAIAP/Xzc3rp5vG9JEl3v/2NNmUdt7iijsczXJCeLABAKxCyAMCP/eb8AZoyKEVV1S7d9PIG5RZXWF1Sh+IOWV2ZkwUAaAVCFgD4MbvdpidnjlD/lGgdLanUr/69SdU1LqvL6hAqnDXKL62URE8WAKB1CFkA4OeiHMH6+9WnKTI0SGszC/TU0t1Wl9QhuHuxIkODFBsebHE1AIBAQsgCgADQOylKf6xbcfDpFXv01f4Ciytq/7IL3UMFI2TjIVkAgFYgZAFAgLh0RBddflpXGYZ015tfq6yy2uqS2jX38u3MxwIAtBYhCwACyH2XDFLn2DBlFZRrwUfbrS6nXWPRCwBAWxGyACCAxISF6LEZwyVJr3yZpfUMGzTNdyErwuJKAACBhpAFAAFmXJ9E/fT0rpKk3767RVXVrDZoBoYLAgDaipAFAAHotxcOVEJkqHbllur5z/dZXU67lO1+EDEhCwDQSoQsAAhAcRGh+n8XDZQk/e3TPTyk2MsqnDXKK6l9RhbDBQEArUXIAoAANX1EF43sHqfyqho9vnSP1eW0K4frlm+PCA1Sp4gQi6sBAAQaQhYABCi73ab7Lh4sSXp302FllVpcUDvy/ZUFeUYWAKC1CFkAEMBGdIvTZSO7SJL+l8VHurewsiAA4FTwExkAAtydU/opJMimXUV2fb7nmNXltAvZhawsCABoO0IWAAS4bvERump0N0nSYxm7ZBiGxRUFPndPVpc4QhYAoPUIWQDQDtw6oZccdkNbD5do6fY8q8sJeAwXBACcCkIWALQDCZGhOiettgfrz8vozTpVPIgYAHAqCFkA0E6cm+ZSRGiQvs0u1qc76M1qq8rqGuUWu5+RRcgCALQeIQsA2omoEOlndXOz/vLpHnqz2uhIYe2DncNDghQfGWpxNQCAQETIAoB2ZNZZ6XIE2/X1wUKtzSywupyA5Fn0gmdkAQDaiJAFAO1IQpRDPxnVVZL07Mq9FlcTmJiPBQA4VYQsAGhnZp/TSzabtHznUe3IKba6nIDz3cqChCwAQNsQsgCgnemRGKkLhqRKkl74LNPiagLPdz1ZLN8OAGgbQhYAtEM3ntVTkvTe14dVWF5lcTWBJbuQniwAwKkhZAFAOzQqvZMGpsWostqlt9YfsrqcgMKDiAEAp4qQBQDtkM1m07Vj0yVJr6w9IJeL5dxboqrapZzi2iXcu8TRkwUAaBtCFgC0U5eO6KzosGAdOFauVbuPWl1OQDhSdEKGITmC7UqM4hlZAIC2IWQBQDsVERrsWc79lS8PWFxNYPj+yoI8IwsA0FaELABox64+s3bI4LIdeTpYUG5xNf6PlQUBAN5AyAKAdqx3UpTO7pMow5BeXZtldTl+L5tnZAEAvICQBQDtnLs3642vslRZXWNxNf7NPVywCyELAHAKCFkA0M5NHpis1JgwHS936tPteVaX49dYvh0A4A2ELABo54KD7Jo+sosk6e2NPDOrKQc9c7LoyQIAtB0hCwA6gMtPqw1ZK3YeVX5ppcXV+KfK6hrPM7K6x9OTBQBoO0IWAHQAfVOiNaxrrKpdht7bfNjqcvxS9vHaZ2RFhAYpIZJnZAEA2o6QBQAdxOWn1T4z651NDBlsSFbdEvfd4yN4RhYA4JQQsgCgg7h4eGeFBNn0bXaxduaUWF2O33E/R6wbQwUBAKeIkAUAHUR8ZKjO7Z8sSXqHBTBO8v2eLAAATgUhCwA6kMtH1Q4ZfHdTtqprXBZX418OFtQu396NlQUBAKeIkAUAHci5/ZPVKSJEeSWV+mLvMavL8SuenqwEerIAAKeGkAUAHUhosF2XDO8sSXqXIYMehmF45mQxXBAAcKoIWQDQwVwyovaZWUu356nCWWNxNf6hsNypkspqSVLXToQsAMCpCZiQVVBQoJ/97GeKiYlRXFycZs2apdLS0iaPmThxomw2W72vW265xUcVA4B/GtktTmmxYSqtrNaqXUetLscvuIcKpsQ4FBYSZHE1AIBAFzAh62c/+5m2bt2qjIwMvf/++1q1apVuuummZo+bPXu2jhw54vl69NFHfVAtAPgvu92mC4emSZI+3HLE4mr8w8Hjdcu304sFAPCCYKsLaInt27fr448/1ldffaXTTz9dkvTXv/5VF154oR577DF17ty50WMjIiKUmprqq1IBICBcODRNL3ye6Rky2NF7b1i+HQDgTQERstasWaO4uDhPwJKkyZMny263a+3atfrxj3/c6LGvvvqqXnnlFaWmpuriiy/W73//e0VENP5DtLKyUpWVlZ7XxcXFkiSn0ymn0+mF76bt3Ne3uo72ivY1F+1rrta275DUSKXFhulIUYWWb8/R5IHJZpbn9w7k1w4/7xLnaLANuX/NRfuajzY2F+1rLn9q35bWEBAhKycnR8nJ9X8BCA4OVnx8vHJycho97qqrrlJ6ero6d+6sb775Rr/5zW+0c+dOvfPOO40es2DBAs2fP/+k7UuWLGkynPlSRkaG1SW0a7SvuWhfc7WmfftH2HWkyK7nl2xUVWbHfmbWpt12SXYVHNytDz/c1eh+3L/mon3NRxubi/Y1lz+0b3l5eYv2szRk3XPPPXrkkUea3Gf79u1tPv/352wNHTpUaWlpmjRpkvbu3avevXs3eMy8efM0d+5cz+vi4mJ169ZNU6dOVUxMTJtr8Qan06mMjAxNmTJFISEhltbSHtG+5qJ9zdWW9k07WKgVz63TjpIQTZoyUY4OPGTwsR2fSTqhiyacqTN6dDrpfe5fc9G+5qONzUX7msuf2tc9yq05loasu+66S9dff32T+/Tq1UupqanKy8urt726uloFBQWtmm81ZswYSdKePXsaDVkOh0MOh+Ok7SEhIZb/o7r5Uy3tEe1rLtrXXK1p3zN6JqpzbJgOF1VodWahpg7umPNXq2tcOlxUIUnqlRzTZPtx/5qL9jUfbWwu2tdc/tC+Lb2+pSErKSlJSUlJze43duxYFRYWasOGDRo1apQk6dNPP5XL5fIEp5bYvHmzJCktLa1N9QJAe2Kz1a4y+Pznmfpgy5EOG7KOFFWoxmUoNNiu5OiT/8gGAEBrBcQS7gMHDtT555+v2bNna926dfriiy90++2364orrvCsLJidna0BAwZo3bp1kqS9e/fqwQcf1IYNG7R//3699957uvbaazV+/HgNGzbMym8HAPzGhcNq/+i0dFtuh30wsXtlwW6dwmW32yyuBgDQHgREyJJqVwkcMGCAJk2apAsvvFBnn322nnvuOc/7TqdTO3fu9ExGCw0N1dKlSzV16lQNGDBAd911ly6//HL973//s+pbAAC/M7JbnDrHhqmsqkZf7Mm3uhxLsHw7AMDbAmJ1QUmKj4/Xa6+91uj7PXr0kGEYntfdunXTypUrfVEaAAQsm82myYNS9K81B7R0e64mDUyxuiSfO+juySJkAQC8JGB6sgAA5pgyqDZYLd2eJ5fLaGbv9oeeLACAtxGyAKCDG9MzQdGOYB0tqdTXhwqtLsfn6MkCAHgbIQsAOrjQYLsm9K9d6TVjW67F1fgePVkAAG8jZAEAPEMGO1rIKqlw6ni5UxI9WQAA7yFkAQA0sX+ygu027c4r1f78MqvL8ZmDBSckSfGRoYpyBMxaUAAAP0fIAgAoNjxEY3rFS5KWbu84vVnff0YWAADeQsgCAEiSptQt376kAw0Z3H+sttcuPSHS4koAAO0JIQsAIEmaXDcva/3+Ah0vq7K4Gt9wD43skUjIAgB4DyELACBJ6topQgPTYuQypE935Fldjk+4e7J6JrLoBQDAewhZAACPKQOTJXWceVn782vnZPVguCAAwIsIWQAAj0l187I+250vZ43L4mrMdaKqRjnFFZKkngwXBAB4ESELAOAxtEusEiJDVVpZrfX7j1tdjqncQwXjIkIUFxFqcTUAgPaEkAUA8LDbbZrQP0mStGJn+56X5V70gpUFAQDeRsgCANRzbv/aeVnL23nIynQvepHAohcAAO8iZAEA6jmnb6LsNmlXbqmyC09YXY5pWL4dAGAWQhYAoJ64iFCd1r2TpPY9ZNC9siCLXgAAvI2QBQA4ybkD6oYM7jhqcSXmcQ8XZPl2AIC3EbIAACeZWLf4xRd78lVZXWNxNd5XWlmtoyWVkhguCADwPkIWAOAkg9JilBzt0AlnjdZlFlhdjte552PFR4YqNjzE4moAAO0NIQsAcBKbzfbdKoPtcMjggWO187F6sLIgAMAEhCwAQIPOHdB+n5e1n/lYAAATEbIAAA06q0+igu027csv04G6UNJeZLJ8OwDARIQsAECDosNCNCq9din3Vbva15BBnpEFADATIQsA0Kjx/WqHDK7clW9xJd7lHi7Yk+GCAAATELIAAI2aUBey1uzNl7PGZXE13lFS4VR+aZUkqUciC18AALyPkAUAaNSgtBglRIaqrKpGGw8ct7ocr9ifX7uyYGJUqKLDWL4dAOB9hCwAQKPsdpvO7psoSfpsd/sYMpjJyoIAAJMRsgAATTqnb+2QwVW728fiFyx6AQAwGyELANCk8XU9WVuyi1RQVmVxNafOE7J4EDEAwCSELABAk5JjwjQgNVqGIX2+J/CHDHqGC9KTBQAwCSELANAs91Lu7eF5Wd/1ZBGyAADmIGQBAJp1jmfxi6MyDMPiatruWGmljpc7JUm9k6IsrgYA0F4RsgAAzTqjR7zCQuzKLa7UrtxSq8tps71Ha3uxusSFKzw0yOJqAADtFSELANCssJAgjemZIKm2NytQ7T1aGxD7JNOLBQAwDyELANAi7iGDKwN4XtaevNqQxVBBAICZCFkAgBaZULf4xbrMAlU4ayyupm3cPVm9k1n0AgBgHkIWAKBF+iRHKTUmTJXVLq3LLLC6nDbxDBekJwsAYCJCFgCgRWw2m8b3qx0yGIhLuVc4a3To+AlJUm/mZAEATETIAgC02Dl9a4cMfrY78B5KvO9omQxDiosIUUJkqNXlAADaMUIWAKDFzu6TKJtN2plbopyiCqvLaRXPfKykKNlsNourAQC0Z4QsAECLdYoM1bAusZICbyn370IWi14AAMxFyAIAtMr4ulUGVwXYkEGWbwcA+AohCwDQKu6Q9fnuo6pxGRZX03K7ckskSf1Soy2uBADQ3hGyAACtMqJbnKIcwTpe7tTWw0VWl9MiVdUu7TtaJknql0LIAgCYi5AFAGiVkCC7xvVOkBQ4S7nvP1amapehKEewOseGWV0OAKCdI2QBAFrtnACbl+UeKtg3hZUFAQDmI2QBAFptQt3zsjYeOK6SCqfF1TRvV07dfKxkhgoCAMxHyAIAtFr3hAilJ0So2mVo9d5jVpfTrF25tSsLsugFAMAXCFkAgDaZ4B4yGADzsjwrC6awfDsAwHyELABAm7hD1spdR2UY/ruUe4WzRvuP1a4s2J+VBQEAPkDIAgC0ydjeCQoNsuvQ8RPal19mdTmN2nu0VC5Dig0PUVK0w+pyAAAdACELANAmEaHBGt0zXpK0cqf/DhncXTcfq39KNCsLAgB8ImBC1h/+8AeNGzdOERERiouLa9ExhmHo3nvvVVpamsLDwzV58mTt3r3b3EIBoAP5/pBBf7U9p1iS1C+V+VgAAN8ImJBVVVWlGTNm6NZbb23xMY8++qj+8pe/6JlnntHatWsVGRmpadOmqaKiwsRKAaDjmNC/NmR9ue+YKpw1FlfTsG2Ha0PWoLRYiysBAHQUAROy5s+frzvvvFNDhw5t0f6GYeipp57S7373O1166aUaNmyY/vWvf+nw4cNavHixucUCQAfRNzlKabFhqqx26ct9/rmU+/YjtSsLDkxj0QsAgG8EW12AWTIzM5WTk6PJkyd7tsXGxmrMmDFas2aNrrjiigaPq6ysVGVlped1cXHtX0CdTqecTmsfuOm+vtV1tFe0r7loX3NZ2b7n9EnQmxuytXxHrs7q1cnn12/K0ZJK5ZdWym6TeieEt7l9uH/NRfuajzY2F+1rLn9q35bW0G5DVk5OjiQpJSWl3vaUlBTPew1ZsGCB5s+ff9L2JUuWKCIiwrtFtlFGRobVJbRrtK+5aF9zWdG+kSU2SUH6aNMBnaZ9Pr9+U7YX1taW6DC0fOknp3w+7l9z0b7mo43NRfuayx/at7y8vEX7WRqy7rnnHj3yyCNN7rN9+3YNGDDARxVJ8+bN09y5cz2vi4uL1a1bN02dOlUxMTE+q6MhTqdTGRkZmjJlikJCQiytpT2ifc1F+5rLyvY9+4RT/3p4hfIqpKFjJ6pbJ//4g5QkHfosU9q+W6f3SdWFFw5v83m4f81F+5qPNjYX7Wsuf2pf9yi35lgasu666y5df/31Te7Tq1evNp07NTVVkpSbm6u0tDTP9tzcXI0YMaLR4xwOhxyOk5+jEhISYvk/qps/1dIe0b7mon3NZUX7JoSEaFT3Tlq3v0Cr9xXq6jP9Z4GJXXm1z+8a3CXOK+3C/Wsu2td8tLG5aF9z+UP7tvT6loaspKQkJSUlmXLunj17KjU1VcuWLfOEquLiYq1du7ZVKxQCAJo3oX+S1u0v0MpdR3X1melWl+Ox/Yh7ZUFrRyIAADqWgFldMCsrS5s3b1ZWVpZqamq0efNmbd68WaWlpZ59BgwYoHfffVeSZLPZNGfOHD300EN67733tGXLFl177bXq3Lmzpk+fbtF3AQDtk/t5Wav35Kuq2mVxNbUqnDXae7S2J2sgIQsA4EMBs/DFvffeq5deesnzeuTIkZKk5cuXa+LEiZKknTt3qqioyLPP3XffrbKyMt10000qLCzU2WefrY8//lhhYWE+rR0A2rtBaTFKjApVfmmV1h8o0LjeiVaXpF25JapxGeoUEaKUmJOHgQMAYJaA6clatGiRDMM46csdsKTaZ2N9f46XzWbTAw88oJycHFVUVGjp0qXq16+f74sHgHbObrdpfN/a3qyVu45aXE2tbw7V/tFtaNc42Ww2i6sBAHQkAROyAAD+bUL/upC10z9C1pa6kDWsi/8sxAEA6BgIWQAArzinb5JsNmlHTolyiyusLkdfHyqUJA3tSsgCAPgWIQsA4BXxkaEa1jVOkvVDBk9U1Wh3Xu3CSMPragIAwFcIWQAAr3GvMvjp9jxL69h2pFg1LkNJ0Q4WvQAA+BwhCwDgNZMHJkuSVu0+qgpnjWV1bKkbKjisSyyLXgAAfI6QBQDwmqFdYpUS41B5VY3W7D1mWR3frSzIfCwAgO8RsgAAXmOz2TR5YIokacm2XMvq+Ca7NmQxHwsAYAVCFgDAq6YMqg1Zy7bnyuUyfH79ohNO7T1au+gFPVkAACsQsgAAXjW2d4KiHMHKK6n09Cj50sas4zIMqUdChBKjWPQCAOB7hCwAgFc5goM8qwxmbMvx+fU3HjguSRqVHu/zawMAIBGyAAAmmDyodpXBpdt8v5T7+v3ukNXJ59cGAEAiZAEATHBu/2QF2W3amVuirGPlPruus8alzQcLJUmn9yBkAQCsQcgCAHhdXESoRveoHa63xIdDBnccKdEJZ41iwoLVJynKZ9cFAOD7CFkAAFNMrltlcOl23y3lvv5AgSTptPROstt5CDEAwBqELACAKabWhayv9h9XQVmVT665vm7Ri9OZjwUAsBAhCwBgim7xERqUFqMal6ElW80fMuhyGfpy7zFJ0hk9WFkQAGAdQhYAwDQXDUuTJH2w5Yjp19qZW6JjZVUKDwnSyO70ZAEArEPIAgCY5qKhtSFr9d5jOlZaaeq1vtiTL0ka3TNeocH8eAMAWIefQgAA0/RIjNSQLrVDBj82ecjg6rqhgmf1STD1OgAANIeQBQAw1UVDO0uS3v/avCGDzhqX1u6rDVnjeieadh0AAFqCkAUAMNWP6uZlfZl5TEeKTphyja8PFqqsqkadIkI0KC3GlGsAANBShCwAgKm6xUdodI94GYa0eNNhU66xanftfKxxvRN5PhYAwHKELACA6S47rYsk6Z2Nh2QYhtfPv3Rb7QOPJ/ZP8vq5AQBoLUIWAMB0Fw5LU2iwXbvzSvVtdrFXz33oeLm2HSmW3SZNGpji1XMDANAWhCwAgOliwkI0dVBtAHp74yGvnnvZ9jxJ0unp8YqPDPXquQEAaAtCFgDAJ34yqquk2iGDJ6pqvHbejLqhgpMHJXvtnAAAnApCFgDAJ8b3TVK3+HAVV1Trf994ZwGM4gqnvqxbun3KoFSvnBMAgFNFyAIA+ITdbtNVo9MlSa9+ecAr5/z42xxVuwz1SY5Sz8RIr5wTAIBTRcgCAPjMT0/vqtAgu74+VKQth4pO+Xxvb6id3/XjkV1O+VwAAHgLIQsA4DMJUQ5dOLR2WN/zn+87pXMdLCjX2swC2WzfLREPAIA/IGQBAHxq9vhekqT/fX1YWcfK23we9yqFZ/dJVFpsuFdqAwDAGwhZAACfGtw5VhP6JcllSM99trdN53C5DL2zMVuSdPlpXb1ZHgAAp4yQBQDwuVsn9pYkvbn+kHKLK1p9/JJtOcoqKFdMWLCmDWZVQQCAfyFkAQB8bkzPeJ2e3klV1S49vmRnq441DEN/X1HbA3b9uB4KDw0yo0QAANqMkAUA8DmbzabfXjRQkvTWhkP6NrvlKw1+seeYvjlUpLAQu64b18OkCgEAaDtCFgDAEqd176RLhneWYUgPvL9NLpfR7DEul6Enl+6SJF1xRnclRDnMLhMAgFYjZAEALHP3+f0VFmLXusyCFi3p/tq6LG04cFwRoUG6eUIvH1QIAEDrEbIAAJbp2ilC9/5osCTpT5/s1DeHChvd90jRCT380Q5J0t3T+rNsOwDAbxGyAACWunJ0N50/OFXOGkM3LvpKO3KKT9rneFmVblj4lUorqzWye5yuGdvD94UCANBChCwAgKVsNpseuXyYBneOUX5pla547kv9d3O2aurmaG05VKSfPb9WO3JKlBTt0JM/HaEgu83iqgEAaFyw1QUAABAbEaLXfn6mrlu4TpsPFuqO1zfroQ+2K8oRrMz8MklSYpRD/559pnokRlpcLQAATaMnCwDgF2IjQvTv2Wfq/6b2U0xYsI6WVCozv0x2m/TjkV307i/GqU9ylNVlAgDQLHqyAAB+Izw0SLef11fXn9VTO3OKVVntUnpCpLrEscgFACBwELIAAH4nyhGsUenxVpcBAECbMFwQAAAAALyIkAUAAAAAXkTIAgAAAAAvImQBAAAAgBcRsgAAAADAiwhZAAAAAOBFhCwAAAAA8CJCFgAAAAB4UcCErD/84Q8aN26cIiIiFBcX16Jjrr/+etlstnpf559/vrmFAgAAAOjQgq0uoKWqqqo0Y8YMjR07Vi+88EKLjzv//PO1cOFCz2uHw2FGeQAAAAAgKYBC1vz58yVJixYtatVxDodDqampJlQEAAAAACcLmJDVVitWrFBycrI6deqk8847Tw899JASEhIa3b+yslKVlZWe18XFxZIkp9Mpp9Nper1NcV/f6jraK9rXXLSvuWhfc9G+5qJ9zUcbm4v2NZc/tW9La7AZhmGYXItXLVq0SHPmzFFhYWGz+77++uuKiIhQz549tXfvXv32t79VVFSU1qxZo6CgoAaPuf/++z29Zt/32muvKSIi4lTLBwAAABCgysvLddVVV6moqEgxMTGN7mdpyLrnnnv0yCOPNLnP9u3bNWDAAM/r1oSsH9q3b5969+6tpUuXatKkSQ3u01BPVrdu3ZSfn99kQ/qC0+lURkaGpkyZopCQEEtraY9oX3PRvuaifc1F+5qL9jUfbWwu2tdc/tS+xcXFSkxMbDZkWTpc8K677tL111/f5D69evXy2vV69eqlxMRE7dmzp9GQ5XA46i2O4c6gJ06csPwf1el0qry8XCdOnFB1dbWltbRHtK+5aF9z0b7mon3NRfuajzY2F+1rLn9q3xMnTkj6LiM0xtKQlZSUpKSkJJ9d79ChQzp27JjS0tJafExJSYkkqVu3bmaVBQAAACCAlJSUKDY2ttH3A2bhi6ysLBUUFCgrK0s1NTXavHmzJKlPnz6KioqSJA0YMEALFizQj3/8Y5WWlmr+/Pm6/PLLlZqaqr179+ruu+9Wnz59NG3atBZft3Pnzjp48KCio6Nls9nM+NZazD108eDBg5YPXWyPaF9z0b7mon3NRfuai/Y1H21sLtrXXP7UvoZhqKSkRJ07d25yv4AJWffee69eeuklz+uRI0dKkpYvX66JEydKknbu3KmioiJJUlBQkL755hu99NJLKiwsVOfOnTV16lQ9+OCDrXpWlt1uV9euXb33jXhBTEyM5TdYe0b7mov2NRftay7a11y0r/loY3PRvubyl/ZtqgfLLWBC1qJFi5p9Rtb3x0aGh4frk08+MbkqAAAAAKjPbnUBAAAAANCeELICiMPh0H333deq4Y5oOdrXXLSvuWhfc9G+5qJ9zUcbm4v2NVcgtm/APYwYAAAAAPwZPVkAAAAA4EWELAAAAADwIkIWAAAAAHgRIQsAAAAAvIiQ5Uf+8Ic/aNy4cYqIiFBcXFyD+2RlZemiiy5SRESEkpOT9etf/1rV1dVNnregoEA/+9nPFBMTo7i4OM2aNUulpaUmfAeBZcWKFbLZbA1+ffXVV40eN3HixJP2v+WWW3xYeeDo0aPHSW318MMPN3lMRUWFbrvtNiUkJCgqKkqXX365cnNzfVRx4Ni/f79mzZqlnj17Kjw8XL1799Z9992nqqqqJo/j/m3c008/rR49eigsLExjxozRunXrmtz/rbfe0oABAxQWFqahQ4fqww8/9FGlgWfBggU644wzFB0dreTkZE2fPl07d+5s8phFixaddK+GhYX5qOLAcv/995/UVgMGDGjyGO7flmvoZ5nNZtNtt93W4P7cu01btWqVLr74YnXu3Fk2m02LFy+u975hGLr33nuVlpam8PBwTZ48Wbt37272vK39DDcbIcuPVFVVacaMGbr11lsbfL+mpkYXXXSRqqqqtHr1ar300ktatGiR7r333ibP+7Of/Uxbt25VRkaG3n//fa1atUo33XSTGd9CQBk3bpyOHDlS7+vnP/+5evbsqdNPP73JY2fPnl3vuEcffdRHVQeeBx54oF5b/fKXv2xy/zvvvFP/+9//9NZbb2nlypU6fPiwLrvsMh9VGzh27Nghl8ulZ599Vlu3btWTTz6pZ555Rr/97W+bPZb792RvvPGG5s6dq/vuu08bN27U8OHDNW3aNOXl5TW4/+rVq3XllVdq1qxZ2rRpk6ZPn67p06fr22+/9XHlgWHlypW67bbb9OWXXyojI0NOp1NTp05VWVlZk8fFxMTUu1cPHDjgo4oDz+DBg+u11eeff97ovty/rfPVV1/Va9uMjAxJ0owZMxo9hnu3cWVlZRo+fLiefvrpBt9/9NFH9Ze//EXPPPOM1q5dq8jISE2bNk0VFRWNnrO1n+E+YcDvLFy40IiNjT1p+4cffmjY7XYjJyfHs+0f//iHERMTY1RWVjZ4rm3bthmSjK+++sqz7aOPPjJsNpuRnZ3t9doDWVVVlZGUlGQ88MADTe43YcIE44477vBNUQEuPT3dePLJJ1u8f2FhoRESEmK89dZbnm3bt283JBlr1qwxocL25dFHHzV69uzZ5D7cvw0bPXq0cdttt3le19TUGJ07dzYWLFjQ4P4//elPjYsuuqjetjFjxhg333yzqXW2F3l5eYYkY+XKlY3u09jPQpzsvvvuM4YPH97i/bl/T80dd9xh9O7d23C5XA2+z73bcpKMd9991/Pa5XIZqampxp/+9CfPtsLCQsPhcBj//ve/Gz1Paz/DfYGerACyZs0aDR06VCkpKZ5t06ZNU3FxsbZu3droMXFxcfV6ZiZPniy73a61a9eaXnMgee+993Ts2DHdcMMNze776quvKjExUUOGDNG8efNUXl7ugwoD08MPP6yEhASNHDlSf/rTn5oc3rphwwY5nU5NnjzZs23AgAHq3r271qxZ44tyA1pRUZHi4+Ob3Y/7t76qqipt2LCh3n1nt9s1efLkRu+7NWvW1Ntfqv085j5tmaKiIklq9n4tLS1Venq6unXrpksvvbTRn3WQdu/erc6dO6tXr1762c9+pqysrEb35f5tu6qqKr3yyiu68cYbZbPZGt2Pe7dtMjMzlZOTU+/+jI2N1ZgxYxq9P9vyGe4LwZZdGa2Wk5NTL2BJ8rzOyclp9Jjk5OR624KDgxUfH9/oMR3VCy+8oGnTpqlr165N7nfVVVcpPT1dnTt31jfffKPf/OY32rlzp9555x0fVRo4fvWrX+m0005TfHy8Vq9erXnz5unIkSN64oknGtw/JydHoaGhJ81JTElJ4X5txp49e/TXv/5Vjz32WJP7cf+eLD8/XzU1NQ1+vu7YsaPBYxr7POY+bZ7L5dKcOXN01llnaciQIY3u179/f7344osaNmyYioqK9Nhjj2ncuHHaunVrs5/THc2YMWO0aNEi9e/fX0eOHNH8+fN1zjnn6Ntvv1V0dPRJ+3P/tt3ixYtVWFio66+/vtF9uHfbzn0Ptub+bMtnuC8Qskx2zz336JFHHmlyn+3btzc7QRUt15Y2P3TokD755BO9+eabzZ7/+/PZhg4dqrS0NE2aNEl79+5V79692154gGhN+86dO9ezbdiwYQoNDdXNN9+sBQsWyOFwmF1qQGrL/Zudna3zzz9fM2bM0OzZs5s8tqPfv7Debbfdpm+//bbJOUOSNHbsWI0dO9bzety4cRo4cKCeffZZPfjgg2aXGVAuuOACz/8eNmyYxowZo/T0dL355puaNWuWhZW1Py+88IIuuOACde7cudF9uHchEbJMd9dddzX51w5J6tWrV4vOlZqaetJKKe5V11JTUxs95oeT/qqrq1VQUNDoMYGuLW2+cOFCJSQk6JJLLmn19caMGSOptiehI/ySeir39JgxY1RdXa39+/erf//+J72fmpqqqqoqFRYW1uvNys3Nbbf36w+1tn0PHz6sc889V+PGjdNzzz3X6ut1tPu3IYmJiQoKCjppFcum7rvU1NRW7Y9at99+u2cBptb+RT8kJEQjR47Unj17TKqu/YiLi1O/fv0abSvu37Y5cOCAli5d2uqef+7dlnPfg7m5uUpLS/Nsz83N1YgRIxo8pi2f4b5AyDJZUlKSkpKSvHKusWPH6g9/+IPy8vI8QwAzMjIUExOjQYMGNXpMYWGhNmzYoFGjRkmSPv30U7lcLs8vV+1Na9vcMAwtXLhQ1157rUJCQlp9vc2bN0tSvQ+D9uxU7unNmzfLbrefNITVbdSoUQoJCdGyZct0+eWXS5J27typrKysen8VbM9a077Z2dk699xzNWrUKC1cuFB2e+un2Xa0+7choaGhGjVqlJYtW6bp06dLqh3StmzZMt1+++0NHjN27FgtW7ZMc+bM8WzLyMjoMPdpaxmGoV/+8pd69913tWLFCvXs2bPV56ipqdGWLVt04YUXmlBh+1JaWqq9e/fqmmuuafB97t+2WbhwoZKTk3XRRRe16jju3Zbr2bOnUlNTtWzZMk+oKi4u1tq1axtdfbstn+E+YdmSGzjJgQMHjE2bNhnz5883oqKijE2bNhmbNm0ySkpKDMMwjOrqamPIkCHG1KlTjc2bNxsff/yxkZSUZMybN89zjrVr1xr9+/c3Dh065Nl2/vnnGyNHjjTWrl1rfP7550bfvn2NK6+80uffn79aunSpIcnYvn37Se8dOnTI6N+/v7F27VrDMAxjz549xgMPPGCsX7/eyMzMNP773/8avXr1MsaPH+/rsv3e6tWrjSeffNLYvHmzsXfvXuOVV14xkpKSjGuvvdazzw/b1zAM45ZbbjG6d+9ufPrpp8b69euNsWPHGmPHjrXiW/Brhw4dMvr06WNMmjTJOHTokHHkyBHP1/f34f5tmddff91wOBzGokWLjG3bthk33XSTERcX51nN9ZprrjHuuecez/5ffPGFERwcbDz22GPG9u3bjfvuu88ICQkxtmzZYtW34NduvfVWIzY21lixYkW9e7W8vNyzzw/beP78+cYnn3xi7N2719iwYYNxxRVXGGFhYcbWrVut+Bb82l133WWsWLHCyMzMNL744gtj8uTJRmJiopGXl2cYBvevN9TU1Bjdu3c3fvOb35z0Hvdu65SUlHh+x5VkPPHEE8amTZuMAwcOGIZhGA8//LARFxdn/Pe//zW++eYb49JLLzV69uxpnDhxwnOO8847z/jrX//qed3cZ7gVCFl+5LrrrjMknfS1fPlyzz779+83LrjgAiM8PNxITEw07rrrLsPpdHreX758uSHJyMzM9Gw7duyYceWVVxpRUVFGTEyMccMNN3iCGwzjyiuvNMaNG9fge5mZmfX+DbKysozx48cb8fHxhsPhMPr06WP8+te/NoqKinxYcWDYsGGDMWbMGCM2NtYICwszBg4caPzxj380KioqPPv8sH0NwzBOnDhh/OIXvzA6depkREREGD/+8Y/rBQfUWrhwYYOfF9//2xn3b+v89a9/Nbp3726EhoYao0ePNr788kvPexMmTDCuu+66evu/+eabRr9+/YzQ0FBj8ODBxgcffODjigNHY/fqwoULPfv8sI3nzJnj+fdISUkxLrzwQmPjxo2+Lz4AzJw500hLSzNCQ0ONLl26GDNnzjT27NnjeZ/799R98sknhiRj586dJ73Hvds67t9Vf/jlbkOXy2X8/ve/N1JSUgyHw2FMmjTppHZPT0837rvvvnrbmvoMt4LNMAzDJ11mAAAAANAB8JwsAAAAAPAiQhYAAAAAeBEhCwAAAAC8iJAFAAAAAF5EyAIAAAAALyJkAQAAAIAXEbIAAAAAwIsIWQAAAADgRYQsAAAAAPAiQhYAAAAAeBEhCwAAAAC8iJAFAEAjjh49qtTUVP3xj3/0bFu9erVCQ0O1bNkyCysDAPgzm2EYhtVFAADgrz788ENNnz5dq1evVv/+/TVixAhdeumleuKJJ6wuDQDgpwhZAAA047bbbtPSpUt1+umna8uWLfrqq6/kcDisLgsA4KcIWQAANOPEiRMaMmSIDh48qA0bNmjo0KFWlwQA8GPMyQIAoBl79+7V4cOH5XK5tH//fqvLAQD4OXqyAABoQlVVlUaPHq0RI0aof//+euqpp7RlyxYlJydbXRoAwE8RsgAAaMKvf/1r/ec//9HXX3+tqKgoTZgwQbGxsXr//fetLg0A4KcYLggAQCNWrFihp556Si+//LJiYmJkt9v18ssv67PPPtM//vEPq8sDAPgperIAAAAAwIvoyQIAAAAALyJkAQAAAIAXEbIAAAAAwIsIWQAAAADgRYQsAAAAAPAiQhYAAAAAeBEhCwAAAAC8iJAFAAAAAF5EyAIAAAAALyJkAQAAAIAXEbIAAAAAwIv+P5l+0CBd91y4AAAAAElFTkSuQmCC\n"
                },
                "metadata": {}
              }
            ]
          }
        },
        "39d0d9204b354d2993efae1fe22e0b2b": {
          "model_module": "@jupyter-widgets/base",
          "model_name": "LayoutModel",
          "model_module_version": "1.2.0",
          "state": {
            "_model_module": "@jupyter-widgets/base",
            "_model_module_version": "1.2.0",
            "_model_name": "LayoutModel",
            "_view_count": null,
            "_view_module": "@jupyter-widgets/base",
            "_view_module_version": "1.2.0",
            "_view_name": "LayoutView",
            "align_content": null,
            "align_items": null,
            "align_self": null,
            "border": null,
            "bottom": null,
            "display": null,
            "flex": null,
            "flex_flow": null,
            "grid_area": null,
            "grid_auto_columns": null,
            "grid_auto_flow": null,
            "grid_auto_rows": null,
            "grid_column": null,
            "grid_gap": null,
            "grid_row": null,
            "grid_template_areas": null,
            "grid_template_columns": null,
            "grid_template_rows": null,
            "height": null,
            "justify_content": null,
            "justify_items": null,
            "left": null,
            "margin": null,
            "max_height": null,
            "max_width": null,
            "min_height": null,
            "min_width": null,
            "object_fit": null,
            "object_position": null,
            "order": null,
            "overflow": null,
            "overflow_x": null,
            "overflow_y": null,
            "padding": null,
            "right": null,
            "top": null,
            "visibility": null,
            "width": null
          }
        },
        "ac9fbe99fbb349dd9bbb0c8f84cc758d": {
          "model_module": "@jupyter-widgets/base",
          "model_name": "LayoutModel",
          "model_module_version": "1.2.0",
          "state": {
            "_model_module": "@jupyter-widgets/base",
            "_model_module_version": "1.2.0",
            "_model_name": "LayoutModel",
            "_view_count": null,
            "_view_module": "@jupyter-widgets/base",
            "_view_module_version": "1.2.0",
            "_view_name": "LayoutView",
            "align_content": null,
            "align_items": null,
            "align_self": null,
            "border": null,
            "bottom": null,
            "display": null,
            "flex": null,
            "flex_flow": null,
            "grid_area": null,
            "grid_auto_columns": null,
            "grid_auto_flow": null,
            "grid_auto_rows": null,
            "grid_column": null,
            "grid_gap": null,
            "grid_row": null,
            "grid_template_areas": null,
            "grid_template_columns": null,
            "grid_template_rows": null,
            "height": null,
            "justify_content": null,
            "justify_items": null,
            "left": null,
            "margin": null,
            "max_height": null,
            "max_width": null,
            "min_height": null,
            "min_width": null,
            "object_fit": null,
            "object_position": null,
            "order": null,
            "overflow": null,
            "overflow_x": null,
            "overflow_y": null,
            "padding": null,
            "right": null,
            "top": null,
            "visibility": null,
            "width": null
          }
        },
        "cf10c821585c4b8bbc7d7cd04d91cb06": {
          "model_module": "@jupyter-widgets/controls",
          "model_name": "SliderStyleModel",
          "model_module_version": "1.5.0",
          "state": {
            "_model_module": "@jupyter-widgets/controls",
            "_model_module_version": "1.5.0",
            "_model_name": "SliderStyleModel",
            "_view_count": null,
            "_view_module": "@jupyter-widgets/base",
            "_view_module_version": "1.2.0",
            "_view_name": "StyleView",
            "description_width": "",
            "handle_color": null
          }
        },
        "1d317b259f024c3f9c122b175d6cbd42": {
          "model_module": "@jupyter-widgets/base",
          "model_name": "LayoutModel",
          "model_module_version": "1.2.0",
          "state": {
            "_model_module": "@jupyter-widgets/base",
            "_model_module_version": "1.2.0",
            "_model_name": "LayoutModel",
            "_view_count": null,
            "_view_module": "@jupyter-widgets/base",
            "_view_module_version": "1.2.0",
            "_view_name": "LayoutView",
            "align_content": null,
            "align_items": null,
            "align_self": null,
            "border": null,
            "bottom": null,
            "display": null,
            "flex": null,
            "flex_flow": null,
            "grid_area": null,
            "grid_auto_columns": null,
            "grid_auto_flow": null,
            "grid_auto_rows": null,
            "grid_column": null,
            "grid_gap": null,
            "grid_row": null,
            "grid_template_areas": null,
            "grid_template_columns": null,
            "grid_template_rows": null,
            "height": null,
            "justify_content": null,
            "justify_items": null,
            "left": null,
            "margin": null,
            "max_height": null,
            "max_width": null,
            "min_height": null,
            "min_width": null,
            "object_fit": null,
            "object_position": null,
            "order": null,
            "overflow": null,
            "overflow_x": null,
            "overflow_y": null,
            "padding": null,
            "right": null,
            "top": null,
            "visibility": null,
            "width": null
          }
        }
      }
    }
  },
  "nbformat": 4,
  "nbformat_minor": 0
}